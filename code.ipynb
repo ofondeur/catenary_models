{
 "cells": [
  {
   "cell_type": "code",
   "execution_count": 1,
   "id": "aba3243b",
   "metadata": {},
   "outputs": [],
   "source": [
    "import pandas as pd\n",
    "import numpy as np\n",
    "import matplotlib.pyplot as plt"
   ]
  },
  {
   "cell_type": "code",
   "execution_count": 3,
   "id": "540ba282",
   "metadata": {},
   "outputs": [],
   "source": [
    "easy_data=pd.read_parquet('Data Science Intern - LiDAR Technical Test/lidar_cable_points_easy.parquet')"
   ]
  },
  {
   "cell_type": "code",
   "execution_count": 5,
   "id": "e47afa53",
   "metadata": {},
   "outputs": [
    {
     "data": {
      "text/plain": [
       "(1502, 3)"
      ]
     },
     "execution_count": 5,
     "metadata": {},
     "output_type": "execute_result"
    }
   ],
   "source": [
    "easy_data.shape"
   ]
  },
  {
   "cell_type": "code",
   "execution_count": null,
   "id": "40ec7591",
   "metadata": {},
   "outputs": [],
   "source": [
    "from sklearn.cluster import DBSCAN\n",
    "import numpy as np\n",
    "\n",
    "X = df[['x', 'y', 'z']].values\n",
    "clustering = DBSCAN(eps=0.2, min_samples=30).fit(X)\n",
    "df['cluster'] = clustering.labels_  # -1 = bruit\n"
   ]
  },
  {
   "cell_type": "code",
   "execution_count": null,
   "id": "819c96e7",
   "metadata": {},
   "outputs": [],
   "source": [
    "from sklearn.decomposition import PCA\n",
    "\n",
    "def get_plane_pca(points):\n",
    "    pca = PCA(n_components=2)\n",
    "    transformed = pca.fit_transform(points)\n",
    "    return transformed, pca\n"
   ]
  }
 ],
 "metadata": {
  "kernelspec": {
   "display_name": "blunomy",
   "language": "python",
   "name": "python3"
  },
  "language_info": {
   "codemirror_mode": {
    "name": "ipython",
    "version": 3
   },
   "file_extension": ".py",
   "mimetype": "text/x-python",
   "name": "python",
   "nbconvert_exporter": "python",
   "pygments_lexer": "ipython3",
   "version": "3.12.9"
  }
 },
 "nbformat": 4,
 "nbformat_minor": 5
}
